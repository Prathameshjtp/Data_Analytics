{
  "nbformat": 4,
  "nbformat_minor": 0,
  "metadata": {
    "colab": {
      "provenance": []
    },
    "kernelspec": {
      "name": "python3",
      "display_name": "Python 3"
    },
    "language_info": {
      "name": "python"
    }
  },
  "cells": [
    {
      "cell_type": "code",
      "execution_count": 18,
      "metadata": {
        "id": "92hLKw9WuQY4"
      },
      "outputs": [],
      "source": [
        "import pandas as pd\n",
        "import numpy as np\n",
        "from sklearn.preprocessing import StandardScaler"
      ]
    },
    {
      "cell_type": "code",
      "source": [
        "def data_preprocessing_pipeline(data):\n",
        "    #Identify numeric and categorical features\n",
        "    numeric_features = data.select_dtypes(include=['float', 'int']).columns\n",
        "    categorical_features = data.select_dtypes(include=['object']).columns\n",
        "\n",
        "    #Handle missing values in numeric features\n",
        "    data[numeric_features] = data[numeric_features].fillna(data[numeric_features].mean())\n",
        "\n",
        "    #Detect and handle outliers in numeric features using IQR\n",
        "    for feature in numeric_features:\n",
        "        Q1 = data[feature].quantile(0.25)\n",
        "        Q3 = data[feature].quantile(0.75)\n",
        "        IQR = Q3 - Q1\n",
        "        lower_bound = Q1 - (1.5 * IQR)\n",
        "        upper_bound = Q3 + (1.5 * IQR)\n",
        "        data[feature] = np.where((data[feature] < lower_bound) | (data[feature] > upper_bound),\n",
        "                                 data[feature].mean(), data[feature])\n",
        "\n",
        "    #Normalize numeric features\n",
        "    scaler = StandardScaler()\n",
        "    scaled_data = scaler.fit_transform(data[numeric_features])\n",
        "    data[numeric_features] = scaler.transform(data[numeric_features])\n",
        "\n",
        "    #Handle missing values in categorical features\n",
        "    data[categorical_features] = data[categorical_features].fillna(data[categorical_features].mode().iloc[0])\n",
        "\n",
        "    return data"
      ],
      "metadata": {
        "id": "PBTWlyyM0yAn"
      },
      "execution_count": 25,
      "outputs": []
    },
    {
      "cell_type": "code",
      "source": [
        "data = pd.read_csv(\"data.csv\")\n",
        "\n",
        "print(\"Original Data:\")\n",
        "print(data)"
      ],
      "metadata": {
        "id": "AQc3GxB98M3i"
      },
      "execution_count": null,
      "outputs": []
    },
    {
      "cell_type": "code",
      "source": [
        "#Perform data preprocessing\n",
        "cleaned_data = data_preprocessing_pipeline(data)\n",
        "\n",
        "print(\"Preprocessed Data:\")\n",
        "print(cleaned_data)"
      ],
      "metadata": {
        "colab": {
          "base_uri": "https://localhost:8080/"
        },
        "id": "tL3Gv4jxz5oi",
        "outputId": "b252031d-8ac0-44af-ffb1-24f467067091"
      },
      "execution_count": 28,
      "outputs": [
        {
          "output_type": "stream",
          "name": "stdout",
          "text": [
            "Preprocessed Data:\n",
            "   NumericFeature1  NumericFeature2 CategoricalFeature\n",
            "0        -1.535624        -1.099370                  A\n",
            "1        -0.944999        -0.749128                  B\n",
            "2         0.000000        -0.398886                  A\n",
            "3         0.236250        -0.048645                  A\n",
            "4         0.826874         0.301597                  B\n",
            "5         1.417499         1.994431                  C\n"
          ]
        }
      ]
    },
    {
      "cell_type": "code",
      "source": [],
      "metadata": {
        "id": "04_x6qq7z6PD"
      },
      "execution_count": null,
      "outputs": []
    }
  ]
}